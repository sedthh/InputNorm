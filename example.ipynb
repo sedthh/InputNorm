{
 "cells": [
  {
   "cell_type": "markdown",
   "metadata": {},
   "source": [
    "# Create a single InputNorm layer and train it to reproduce the non-standardized PowerTransformer output with similar lambda values on dummy data"
   ]
  },
  {
   "cell_type": "code",
   "execution_count": 1,
   "metadata": {},
   "outputs": [
    {
     "data": {
      "text/plain": [
       "(512, 8)"
      ]
     },
     "execution_count": 1,
     "metadata": {},
     "output_type": "execute_result"
    }
   ],
   "source": [
    "import numpy as np\n",
    "from sklearn.preprocessing import PowerTransformer\n",
    "from inputnorm import InputNorm\n",
    "\n",
    "np.random.seed(12345)\n",
    "N = 512\n",
    "affine = False\n",
    "missing = 0.05  # randomly replace data points with NaNs\n",
    "\n",
    "# create dummy data\n",
    "X = [\n",
    "    np.random.normal(0.0, 0.1, N),\n",
    "    np.random.normal(-3.0, 0.1, N),\n",
    "    np.random.lognormal(1.0, 2.0, N),\n",
    "    np.random.gumbel(0.0, 0.1, N),\n",
    "    np.random.gamma(2.0, 2.0, N),\n",
    "    np.random.power(3., N),\n",
    "    np.random.uniform(0.0, 1.0, N),\n",
    "    [np.nan] * N\n",
    "]\n",
    "X = np.array(X).T\n",
    "\n",
    "# add more missing values at random\n",
    "X = np.where(np.random.uniform(0.0, 1.0, X.shape) < missing, np.nan, X)\n",
    "\n",
    "# fit the PowerTransformer on data\n",
    "pt = PowerTransformer(method=\"yeo-johnson\", standardize=affine)\n",
    "pt.fit(X[:, :-1])  # fitting an all NaNs column would raise an error\n",
    "\n",
    "# y is X transformed\n",
    "y = pt.transform(X[:, :-1])\n",
    "y = np.hstack((y, np.expand_dims(X[:, -1], -1)))  # reintroduce all NaN column\n",
    "\n",
    "y.shape"
   ]
  },
  {
   "cell_type": "code",
   "execution_count": 2,
   "metadata": {},
   "outputs": [
    {
     "name": "stdout",
     "output_type": "stream",
     "text": [
      "device: cpu\n"
     ]
    }
   ],
   "source": [
    "import torch\n",
    "import matplotlib.pyplot as plt\n",
    "\n",
    "epochs = 1000\n",
    "batch_size = X.shape[0] // 8\n",
    "device = \"cuda:0\" if torch.cuda.is_available() else \"cpu\"\n",
    "num_batches = int(np.ceil(X.shape[0] / batch_size))\n",
    "\n",
    "\n",
    "model = InputNorm(X.shape[-1], affine=affine, device=device)  # single \"layer\"\n",
    "mse = torch.nn.MSELoss()\n",
    "optimizer = torch.optim.Adam(model.parameters(), lr=1e-3)\n",
    "model.train()\n",
    "\n",
    "print(\"device:\", device)"
   ]
  },
  {
   "cell_type": "code",
   "execution_count": 3,
   "metadata": {},
   "outputs": [
    {
     "data": {
      "image/png": "[encoded data removed]",
      "text/plain": [
       "<Figure size 640x480 with 1 Axes>"
      ]
     },
     "metadata": {},
     "output_type": "display_data"
    }
   ],
   "source": [
    "g = torch.Generator().manual_seed(12345)\n",
    "losses = []\n",
    "for i in range(epochs):\n",
    "    blosses = []\n",
    "    for b in range(num_batches):\n",
    "        ix = torch.randint(0, X.shape[0], (batch_size, ), generator=g)\n",
    "        X_batch, y_batch = X[ix], y[ix]\n",
    "        X_batch, y_batch = torch.Tensor(X_batch).to(device), torch.Tensor(y_batch).to(device)\n",
    "        y_pred = model(X_batch)\n",
    "\n",
    "        # mask NaNs for calculating loss\n",
    "        mask = torch.isfinite(y_batch)\n",
    "        y_pred = torch.masked_select(y_pred, mask)\n",
    "        y_true = torch.masked_select(y_batch, mask)\n",
    "        loss = mse(y_pred, y_true)\n",
    "        \n",
    "        optimizer.zero_grad()\n",
    "        loss.backward()\n",
    "        torch.nn.utils.clip_grad_norm_(model.parameters(), 1.0)\n",
    "        optimizer.step()\n",
    "        blosses.append(loss.item())\n",
    "        assert np.isfinite(blosses[-1]), f\"NaN encountered at epoch {i} / batch {b}!\"\n",
    "    \n",
    "    losses.append(np.mean(blosses))\n",
    "\n",
    "plt.plot(np.arange(len(losses)), losses)\n",
    "plt.title(f\"Final loss: {losses[-1]}\")\n",
    "plt.show();\n"
   ]
  },
  {
   "cell_type": "code",
   "execution_count": 7,
   "metadata": {},
   "outputs": [
    {
     "name": "stdout",
     "output_type": "stream",
     "text": [
      "Original lambdas: [0.44784702475066307, -0.8773497592463756, -0.39943529991153354, -2.278847416880611, 0.004466045332337486, 4.907717212654821, 0.43314467447389865, None]\n",
      "Model lambdas   : [0.4478476345539093, -0.8773496747016907, -0.3994348347187042, -2.2788374423980713, 0.004466029349714518, 4.907713890075684, 0.43314456939697266, 1.0]\n"
     ]
    }
   ],
   "source": [
    "print(\"Original lambdas:\", pt.lambdas_.tolist() + [None])  # last column has no lambda with scikit-learn\n",
    "print(\"Model lambdas   :\", model.lambdas.detach().cpu().numpy().tolist())  # 1.0 is the identity"
   ]
  },
  {
   "cell_type": "code",
   "execution_count": null,
   "metadata": {},
   "outputs": [],
   "source": []
  }
 ],
 "metadata": {
  "kernelspec": {
   "display_name": "Python 3",
   "language": "python",
   "name": "python3"
  },
  "language_info": {
   "codemirror_mode": {
    "name": "ipython",
    "version": 3
   },
   "file_extension": ".py",
   "mimetype": "text/x-python",
   "name": "python",
   "nbconvert_exporter": "python",
   "pygments_lexer": "ipython3",
   "version": "3.12.2"
  }
 },
 "nbformat": 4,
 "nbformat_minor": 2
}
