{
 "cells": [
  {
   "cell_type": "markdown",
   "metadata": {},
   "source": [
    "# Create a single InputNorm layer and train it to reproduce the non-standardized PowerTransformer output with similar lambda values on dummy data"
   ]
  },
  {
   "cell_type": "code",
   "execution_count": 1,
   "metadata": {},
   "outputs": [
    {
     "data": {
      "text/plain": [
       "(512, 7)"
      ]
     },
     "execution_count": 1,
     "metadata": {},
     "output_type": "execute_result"
    }
   ],
   "source": [
    "import numpy as np\n",
    "from sklearn.preprocessing import PowerTransformer\n",
    "from inputnorm import InputNorm\n",
    "\n",
    "np.random.seed(12345)\n",
    "N = 512\n",
    "affine = False\n",
    "\n",
    "X = [\n",
    "    np.random.normal(0.0, 0.1, N),\n",
    "    np.random.normal(-3.0, 0.1, N),\n",
    "    np.random.lognormal(1.0, 2.0, N),\n",
    "    np.random.gumbel(0.0, 0.1, N),\n",
    "    np.random.gamma(2.0, 2.0, N),\n",
    "    np.random.power(3., N),\n",
    "    np.random.uniform(0.0, 1.0, N),\n",
    "]\n",
    "X = np.array(X).T\n",
    "\n",
    "pt = PowerTransformer(method=\"yeo-johnson\", standardize=affine)\n",
    "pt.fit(X)\n",
    "y = pt.transform(X)\n",
    "\n",
    "y.shape\n"
   ]
  },
  {
   "cell_type": "code",
   "execution_count": 2,
   "metadata": {},
   "outputs": [
    {
     "name": "stdout",
     "output_type": "stream",
     "text": [
      "device: cpu\n"
     ]
    }
   ],
   "source": [
    "import torch\n",
    "import matplotlib.pyplot as plt\n",
    "\n",
    "epochs = 1000\n",
    "batch_size = X.shape[0] // 8\n",
    "device = \"cuda:0\" if torch.cuda.is_available() else \"cpu\"\n",
    "num_batches = int(np.ceil(X.shape[0] / batch_size))\n",
    "\n",
    "\n",
    "model = InputNorm(X.shape[-1], affine=affine, device=device)  # single \"layer\"\n",
    "mse = torch.nn.MSELoss()\n",
    "optimizer = torch.optim.Adam(model.parameters(), lr=1e-3)\n",
    "model.train()\n",
    "\n",
    "print(\"device:\", device)"
   ]
  },
  {
   "cell_type": "code",
   "execution_count": 3,
   "metadata": {},
   "outputs": [
    {
     "data": {
      "image/png": "[encoded data removed]",
      "text/plain": [
       "<Figure size 640x480 with 1 Axes>"
      ]
     },
     "metadata": {},
     "output_type": "display_data"
    }
   ],
   "source": [
    "g = torch.Generator().manual_seed(12345)\n",
    "losses = []\n",
    "for i in range(epochs):\n",
    "    blosses = []\n",
    "    for b in range(num_batches):\n",
    "        ix = torch.randint(0, X.shape[0], (batch_size, ), generator=g)\n",
    "        X_batch, y_batch = X[ix], y[ix]\n",
    "        X_batch, y_batch = torch.Tensor(X_batch).to(device), torch.Tensor(y_batch).to(device)\n",
    "        y_pred = model(X_batch)\n",
    "        loss = mse(y_pred, y_batch)\n",
    "        optimizer.zero_grad()\n",
    "        loss.backward()\n",
    "        torch.nn.utils.clip_grad_norm_(model.parameters(), 1.0)\n",
    "        optimizer.step()\n",
    "        blosses.append(loss.item())\n",
    "        assert np.isfinite(blosses[-1]), f\"NaN at epoch {i}, batch {b}\"\n",
    "    losses.append(np.mean(blosses))\n",
    "\n",
    "plt.plot(np.arange(len(losses)), losses)\n",
    "plt.title(f\"Final loss: {losses[-1]}\")\n",
    "plt.show();\n"
   ]
  },
  {
   "cell_type": "code",
   "execution_count": 5,
   "metadata": {},
   "outputs": [
    {
     "name": "stdout",
     "output_type": "stream",
     "text": [
      "Original lambdas:\t [ 0.43504319 -0.79943349 -0.40310897 -2.26706388  0.02686084  4.82924734\n",
      "  0.36561979]\n",
      "Model lambdas   :\t [ 0.43504152 -0.7994335  -0.40310845 -2.267053    0.02686075  4.8292437\n",
      "  0.36561975]\n"
     ]
    }
   ],
   "source": [
    "print(\"Original lambdas:\\t\", pt.lambdas_)\n",
    "print(\"Model lambdas   :\\t\", model.lambdas.detach().cpu().numpy())"
   ]
  },
  {
   "cell_type": "code",
   "execution_count": null,
   "metadata": {},
   "outputs": [],
   "source": []
  }
 ],
 "metadata": {
  "kernelspec": {
   "display_name": "Python 3",
   "language": "python",
   "name": "python3"
  },
  "language_info": {
   "codemirror_mode": {
    "name": "ipython",
    "version": 3
   },
   "file_extension": ".py",
   "mimetype": "text/x-python",
   "name": "python",
   "nbconvert_exporter": "python",
   "pygments_lexer": "ipython3",
   "version": "3.12.2"
  }
 },
 "nbformat": 4,
 "nbformat_minor": 2
}
